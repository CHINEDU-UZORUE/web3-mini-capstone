{
 "cells": [
  {
   "cell_type": "code",
   "execution_count": 10,
   "id": "e622ac26",
   "metadata": {},
   "outputs": [
    {
     "name": "stdout",
     "output_type": "stream",
     "text": [
      "         date     price  whale_tx_count\n",
      "0  2025-07-08  0.851348            55.0\n",
      "1  2025-07-09  0.867687            81.0\n",
      "2  2025-07-10  0.980620           120.0\n",
      "3  2025-07-11  1.026342           107.0\n",
      "4  2025-07-12  0.956366            54.0\n"
     ]
    },
    {
     "data": {
      "text/plain": [
       "['C:/Users/DELL/Documents/Data Science and Analytics/Mini Capstone/minic/Database\\\\daily_merged_wif_data.joblib']"
      ]
     },
     "execution_count": 10,
     "metadata": {},
     "output_type": "execute_result"
    }
   ],
   "source": [
    "from joblib import load, dump\n",
    "import pandas as pd\n",
    "import os\n",
    "\n",
    "# Load data\n",
    "prices = load(\"C:/Users/DELL/Documents/Data Science and Analytics/Mini Capstone/minic/Database/prices_wif.joblib\")\n",
    "txns = load(\"C:/Users/DELL/Documents/Data Science and Analytics/Mini Capstone/minic/Database/whales_wif.joblib\")\n",
    "\n",
    "# Ensure datetime conversion\n",
    "prices['timestamp'] = pd.to_datetime(prices['timestamp'], utc=True)\n",
    "txns['day'] = pd.to_datetime(txns['day'], utc=True)\n",
    "\n",
    "# Extract date from timestamps\n",
    "prices['date'] = prices['timestamp'].dt.date\n",
    "txns['date'] = txns['day'].dt.date\n",
    "\n",
    "# Aggregate prices by date (daily average)\n",
    "daily_prices = prices.groupby('date').agg({\n",
    "    'price': 'mean'  \n",
    "}).reset_index()\n",
    "\n",
    "# Prepare whale data\n",
    "whale_data = txns[['date', 'whale_tx_count']].drop_duplicates()\n",
    "\n",
    "# Merge on date\n",
    "df = pd.merge(daily_prices, whale_data, on='date', how='left')\n",
    "\n",
    "# Fill missing whale tx counts with 0\n",
    "df['whale_tx_count'] = df['whale_tx_count'].fillna(0)\n",
    "\n",
    "# Preview\n",
    "print(df.head())\n",
    "\n",
    "# Save to disk\n",
    "save_dir = \"C:/Users/DELL/Documents/Data Science and Analytics/Mini Capstone/minic/Database\"\n",
    "os.makedirs(save_dir, exist_ok=True)\n",
    "dump(df, os.path.join(save_dir, \"daily_merged_wif_data.joblib\"))\n"
   ]
  },
  {
   "cell_type": "code",
   "execution_count": null,
   "id": "1eac1ab9",
   "metadata": {},
   "outputs": [],
   "source": []
  }
 ],
 "metadata": {
  "kernelspec": {
   "display_name": "base",
   "language": "python",
   "name": "python3"
  },
  "language_info": {
   "codemirror_mode": {
    "name": "ipython",
    "version": 3
   },
   "file_extension": ".py",
   "mimetype": "text/x-python",
   "name": "python",
   "nbconvert_exporter": "python",
   "pygments_lexer": "ipython3",
   "version": "3.11.7"
  }
 },
 "nbformat": 4,
 "nbformat_minor": 5
}
