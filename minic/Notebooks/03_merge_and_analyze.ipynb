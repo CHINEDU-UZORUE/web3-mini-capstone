{
 "cells": [
  {
   "cell_type": "code",
   "execution_count": 11,
   "id": "e622ac26",
   "metadata": {},
   "outputs": [
    {
     "name": "stdout",
     "output_type": "stream",
     "text": [
      "                                     price  whale_tx_count\n",
      "timestamp                                                 \n",
      "2025-07-07 15:03:37.852000+00:00  0.841319              27\n",
      "2025-07-07 16:03:27.405000+00:00  0.847040              27\n",
      "2025-07-07 17:03:30.210000+00:00  0.847720              27\n",
      "2025-07-07 18:03:44.796000+00:00  0.845687              27\n",
      "2025-07-07 19:03:45.507000+00:00  0.846087              27\n"
     ]
    },
    {
     "data": {
      "text/plain": [
       "['C:/Users/DELL/Documents/Data Science and Analytics/Mini Capstone/minic/Database\\\\merged_wif_data.joblib']"
      ]
     },
     "execution_count": 11,
     "metadata": {},
     "output_type": "execute_result"
    }
   ],
   "source": [
    "from joblib import load, dump\n",
    "import pandas as pd\n",
    "import os\n",
    "\n",
    "# Load data\n",
    "prices = load(\"C:/Users/DELL/Documents/Data Science and Analytics/Mini Capstone/minic/Database/prices_wif.joblib\")\n",
    "txns = load(\"C:/Users/DELL/Documents/Data Science and Analytics/Mini Capstone/minic/Database/whales_wif.joblib\")\n",
    "\n",
    "# Convert prices['timestamp'] if not already datetime\n",
    "prices['timestamp'] = pd.to_datetime(prices['timestamp'], utc=True)\n",
    "\n",
    "# Convert whale data day to datetime (handle the date format properly)\n",
    "txns['day'] = pd.to_datetime(txns['day'], utc=True)\n",
    "\n",
    "# Create a date column for merging (extract date from hourly timestamps)\n",
    "prices['date'] = prices['timestamp'].dt.date\n",
    "txns['date'] = txns['day'].dt.date\n",
    "\n",
    "# Prepare whale data for merging\n",
    "whale_data = txns.set_index('date')['whale_tx_count']\n",
    "\n",
    "# Merge (this will add the same daily whale count to all hours of that day)\n",
    "df = prices.set_index('date').join(whale_data, how='left')\n",
    "\n",
    "# Reset index to get date back as column, but keep timestamp as well\n",
    "df = df.reset_index()\n",
    "df = df.set_index('timestamp')\n",
    "\n",
    "# Fill missing whale tx counts with 0\n",
    "df['whale_tx_count'] = df['whale_tx_count'].fillna(0)\n",
    "\n",
    "# Drop the date column if not needed\n",
    "df = df.drop('date', axis=1)\n",
    "\n",
    "# Preview\n",
    "print(df.head())\n",
    "\n",
    "# Save to disk\n",
    "save_dir = \"C:/Users/DELL/Documents/Data Science and Analytics/Mini Capstone/minic/Database\"\n",
    "os.makedirs(save_dir, exist_ok=True)\n",
    "dump(df, os.path.join(save_dir, \"merged_wif_data.joblib\"))"
   ]
  },
  {
   "cell_type": "code",
   "execution_count": null,
   "id": "55e10a76",
   "metadata": {},
   "outputs": [],
   "source": []
  }
 ],
 "metadata": {
  "kernelspec": {
   "display_name": "base",
   "language": "python",
   "name": "python3"
  },
  "language_info": {
   "codemirror_mode": {
    "name": "ipython",
    "version": 3
   },
   "file_extension": ".py",
   "mimetype": "text/x-python",
   "name": "python",
   "nbconvert_exporter": "python",
   "pygments_lexer": "ipython3",
   "version": "3.11.7"
  }
 },
 "nbformat": 4,
 "nbformat_minor": 5
}
