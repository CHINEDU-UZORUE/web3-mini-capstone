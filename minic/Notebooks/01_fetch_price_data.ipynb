{
 "cells": [
  {
   "cell_type": "code",
   "execution_count": null,
   "id": "019c872f",
   "metadata": {},
   "outputs": [
    {
     "data": {
      "text/plain": [
       "['C:/Users/DELL/Documents/Data Science and Analytics/Mini Capstone/minic/Database\\\\prices_wif.joblib']"
      ]
     },
     "execution_count": 16,
     "metadata": {},
     "output_type": "execute_result"
    }
   ],
   "source": [
    "from joblib import dump\n",
    "import requests\n",
    "import pandas as pd\n",
    "import os\n",
    "from dotenv import load_dotenv\n",
    "\n",
    "load_dotenv()\n",
    "\n",
    "\n",
    "coin_id = \"dogwifcoin\"\n",
    "url = f\"https://pro-api.coingecko.com/api/v3/coins/{coin_id}/market_chart\"\n",
    "\n",
    "GECKO_API_KEY = os.getenv(\"GECKO_API_KEY\")\n",
    "\n",
    "headers = {\n",
    "            \"accept\": \"application/json\",\n",
    "            \"x-cg-pro-api-key\": GECKO_API_KEY\n",
    "        }\n",
    "\n",
    "params = {\"vs_currency\": \"usd\", \n",
    "          \"days\": 30\n",
    "          }\n",
    "\n",
    "response = requests.get(url, params=params, headers=headers).json()\n",
    "\n",
    "\n",
    "prices = pd.DataFrame(response['prices'], columns=['timestamp', 'price'])\n",
    "prices['timestamp'] = pd.to_datetime(prices['timestamp'], unit='ms')\n",
    "\n",
    "# Save with joblib \n",
    "save_dir = \"C:/Users/DELL/Documents/Data Science and Analytics/Mini Capstone/minic/Database\"\n",
    "os.makedirs(save_dir, exist_ok=True)\n",
    "dump(prices, os.path.join(save_dir, \"prices_wif.joblib\"))\n"
   ]
  },
  {
   "cell_type": "code",
   "execution_count": null,
   "id": "07ef8593",
   "metadata": {},
   "outputs": [],
   "source": []
  }
 ],
 "metadata": {
  "kernelspec": {
   "display_name": "base",
   "language": "python",
   "name": "python3"
  },
  "language_info": {
   "codemirror_mode": {
    "name": "ipython",
    "version": 3
   },
   "file_extension": ".py",
   "mimetype": "text/x-python",
   "name": "python",
   "nbconvert_exporter": "python",
   "pygments_lexer": "ipython3",
   "version": "3.11.7"
  }
 },
 "nbformat": 4,
 "nbformat_minor": 5
}
